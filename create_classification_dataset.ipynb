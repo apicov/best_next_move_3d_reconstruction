{
 "cells": [
  {
   "cell_type": "code",
   "execution_count": 1,
   "id": "resistant-database",
   "metadata": {},
   "outputs": [
    {
     "name": "stdout",
     "output_type": "stream",
     "text": [
      "GPUs:  1\n"
     ]
    }
   ],
   "source": [
    "from numpy import genfromtxt\n",
    "import tensorflow as tf\n",
    "import tensorflow.keras as keras\n",
    "'''#from keras.models import Sequential\n",
    "from keras.layers import Dense, Input, Lambda, Dropout\n",
    "from keras import regularizers\n",
    "#from keras.layers import Dropout\n",
    "from keras.constraints import maxnorm\n",
    "#from keras.wrappers.scikit_learn import KerasRegressor\n",
    "from keras.models import Model\n",
    "from keras import regularizers\n",
    "#from keras.layers.normalization import BatchNormalization\n",
    "from keras import backend as K\n",
    "from keras import objectives\n",
    "from keras.models import model_from_json\n",
    "from keras.layers import Input, Dense, Convolution1D, MaxPooling1D, UpSampling1D, AveragePooling1D, Flatten ,Reshape,ZeroPadding1D,Cropping1D\n",
    "from keras.models import Model\n",
    "#from keras.callbacks import TensorBoard\n",
    "from keras.regularizers import l2, l1\n",
    "from keras import optimizers\n",
    "from keras.layers.noise import GaussianNoise\n",
    "from keras.models import Sequential\n",
    "from keras.layers import Dense, Activation\n",
    "from keras import optimizers\n",
    "from keras.layers import Dense,concatenate, Input,TimeDistributed,LSTM, Lambda, Dropout, Reshape, Conv1D, Flatten, UpSampling1D, Flatten, BatchNormalization\n",
    "from keras.models import Model\n",
    "from keras.callbacks import EarlyStopping\n",
    "from keras.callbacks import TensorBoard\n",
    "from keras import backend as K'''\n",
    "\n",
    "import tensorflow.keras.backend as K\n",
    "\n",
    "from tensorflow.keras.optimizers import Adam\n",
    "from tensorflow.keras.models import Model\n",
    "from tensorflow.keras.layers import Input, Dense, Flatten, Reshape, LSTM, Lambda\n",
    "from tensorflow.keras.regularizers import l2\n",
    "from tensorflow.keras.layers import Conv2D, MaxPooling2D\n",
    "import tensorflow as tf\n",
    "\n",
    "\n",
    "from PIL import Image\n",
    "\n",
    "import os\n",
    "import sys\n",
    "import itertools\n",
    "#import keras_internal_model\n",
    "import pandas as pd\n",
    "import numpy as np\n",
    "#import train_tools as tt\n",
    "from numpy import genfromtxt\n",
    "from time import time\n",
    "\n",
    "import csv\n",
    "\n",
    "tf.compat.v1.enable_v2_behavior()\n",
    "\n",
    "\n",
    "gpus = tf.config.experimental.list_physical_devices('GPU')\n",
    "if gpus:\n",
    "  try:\n",
    "    tf.config.experimental.set_virtual_device_configuration(gpus[0], \n",
    "    [tf.config.experimental.VirtualDeviceConfiguration(memory_limit=5000)])\n",
    "  except RuntimeError as e:\n",
    "    print(e)\n",
    "    \n",
    "    \n",
    "print(\"GPUs: \", len(tf.config.experimental.list_physical_devices('GPU')))\n",
    "tf.config.experimental.list_logical_devices('GPU')\n",
    "\n",
    "import cv2\n",
    "%matplotlib inline\n",
    "import matplotlib\n",
    "import matplotlib.pyplot as plt\n",
    "from sklearn import preprocessing"
   ]
  },
  {
   "cell_type": "code",
   "execution_count": 2,
   "id": "streaming-demand",
   "metadata": {},
   "outputs": [],
   "source": [
    "def load_images(parent_path,imgs_paths):\n",
    "    imgs = []\n",
    "    for i in imgs_paths:\n",
    "        imgs.append( cv2.imread( os.path.join(parent_path,i)) )\n",
    "    return np.array(imgs)"
   ]
  },
  {
   "cell_type": "code",
   "execution_count": 3,
   "id": "certain-strip",
   "metadata": {},
   "outputs": [],
   "source": [
    "#img_path = '/vol/fob-vol6/mi13/pivillaa/uni/romi/rl_sony/best_next_move_3d_reconstruction/data/imgs'\n",
    "#idx_file = '/vol/fob-vol6/mi13/pivillaa/uni/romi/rl_sony/best_next_move_3d_reconstruction/data/samples_idx.csv'\n",
    "#dest_path = '/vol/fob-vol6/mi13/pivillaa/uni/romi/rl_sony/best_next_move_3d_reconstruction/data/class_imgs'\n",
    "\n",
    "img_path = '/home/pico/uni/romi/rl_sony/best_next_move_3d_reconstruction/data/imgs'\n",
    "idx_file = '/home/pico/uni/romi/rl_sony/best_next_move_3d_reconstruction/data/samples_idx.csv'\n",
    "dest_path = '/home/pico/uni/romi/rl_sony/best_next_move_3d_reconstruction/data/class_imgs'\n",
    "if not os.path.exists(dest_path):\n",
    "    os.makedirs(dest_path)\n",
    "\n",
    "df = pd.read_csv(idx_file,usecols=(0,5,6))"
   ]
  },
  {
   "cell_type": "code",
   "execution_count": 4,
   "id": "coordinated-cannon",
   "metadata": {},
   "outputs": [],
   "source": [
    "imgs = load_images(img_path,df['img'])"
   ]
  },
  {
   "cell_type": "code",
   "execution_count": 5,
   "id": "preceding-picture",
   "metadata": {},
   "outputs": [
    {
     "name": "stdout",
     "output_type": "stream",
     "text": [
      "(75000, 82, 82, 3)\n"
     ]
    },
    {
     "data": {
      "text/html": [
       "<div>\n",
       "<style scoped>\n",
       "    .dataframe tbody tr th:only-of-type {\n",
       "        vertical-align: middle;\n",
       "    }\n",
       "\n",
       "    .dataframe tbody tr th {\n",
       "        vertical-align: top;\n",
       "    }\n",
       "\n",
       "    .dataframe thead th {\n",
       "        text-align: right;\n",
       "    }\n",
       "</style>\n",
       "<table border=\"1\" class=\"dataframe\">\n",
       "  <thead>\n",
       "    <tr style=\"text-align: right;\">\n",
       "      <th></th>\n",
       "      <th>img</th>\n",
       "      <th>dp2</th>\n",
       "      <th>dt2</th>\n",
       "    </tr>\n",
       "  </thead>\n",
       "  <tbody>\n",
       "    <tr>\n",
       "      <th>0</th>\n",
       "      <td>000_2d/563_008_205.png</td>\n",
       "      <td>-1</td>\n",
       "      <td>14</td>\n",
       "    </tr>\n",
       "    <tr>\n",
       "      <th>1</th>\n",
       "      <td>006_2d/625_462_656.png</td>\n",
       "      <td>-3</td>\n",
       "      <td>14</td>\n",
       "    </tr>\n",
       "    <tr>\n",
       "      <th>2</th>\n",
       "      <td>003_2d/627_452_079.png</td>\n",
       "      <td>0</td>\n",
       "      <td>-20</td>\n",
       "    </tr>\n",
       "    <tr>\n",
       "      <th>3</th>\n",
       "      <td>001_2d/596_578_237.png</td>\n",
       "      <td>-1</td>\n",
       "      <td>19</td>\n",
       "    </tr>\n",
       "    <tr>\n",
       "      <th>4</th>\n",
       "      <td>001_2d/060_594_224.png</td>\n",
       "      <td>-1</td>\n",
       "      <td>-20</td>\n",
       "    </tr>\n",
       "  </tbody>\n",
       "</table>\n",
       "</div>"
      ],
      "text/plain": [
       "                      img  dp2  dt2\n",
       "0  000_2d/563_008_205.png   -1   14\n",
       "1  006_2d/625_462_656.png   -3   14\n",
       "2  003_2d/627_452_079.png    0  -20\n",
       "3  001_2d/596_578_237.png   -1   19\n",
       "4  001_2d/060_594_224.png   -1  -20"
      ]
     },
     "execution_count": 5,
     "metadata": {},
     "output_type": "execute_result"
    }
   ],
   "source": [
    "print(imgs.shape)\n",
    "df.head()"
   ]
  },
  {
   "cell_type": "code",
   "execution_count": 6,
   "id": "banned-landscape",
   "metadata": {},
   "outputs": [],
   "source": [
    "y = df[['dp2','dt2']].values"
   ]
  },
  {
   "cell_type": "code",
   "execution_count": 7,
   "id": "3d4ec763",
   "metadata": {},
   "outputs": [],
   "source": [
    "def n2c(n,stride=41): #number to coordinate\n",
    "    row = n//stride\n",
    "    col = n%stride\n",
    "    row-=4\n",
    "    col-=20\n",
    "    return (row,col)\n",
    "\n",
    "def c2n(c,stride=41): #coordinate to number\n",
    "    row = c[0] + 4 #shift range [-4,4] to [0,8]\n",
    "    col = c[1] + 20 #shift range [-20,20] to [0,20]\n",
    "    return row*stride + col"
   ]
  },
  {
   "cell_type": "code",
   "execution_count": 8,
   "id": "49c9d3f9",
   "metadata": {},
   "outputs": [],
   "source": [
    "for iname,i,l in zip(df['img'],imgs,y):\n",
    "    im_idx = c2n(l)\n",
    "    label_name = f\"{str(im_idx).zfill(3)}_{str(l[0]).zfill(3)}_{str(l[1]).zfill(3)}\"\n",
    "    folder_path = os.path.join(dest_path,label_name)\n",
    "    if not os.path.exists(folder_path):\n",
    "        os.makedirs(folder_path)\n",
    "    image_name = f\"{iname[:6]}_{iname[7:]}\" #remove slash\n",
    "    cv2.imwrite(os.path.join(folder_path,image_name),i)\n"
   ]
  },
  {
   "cell_type": "code",
   "execution_count": 9,
   "id": "64a829f9",
   "metadata": {},
   "outputs": [],
   "source": [
    "fclass = []\n",
    "n = []\n",
    "for i in sorted(os.listdir(dest_path)):\n",
    "    fclass.append(int(i[:3]))\n",
    "    n .append( len( os.listdir(os.path.join(dest_path,i)) )  )"
   ]
  },
  {
   "cell_type": "code",
   "execution_count": 10,
   "id": "81fb351e",
   "metadata": {},
   "outputs": [
    {
     "data": {
      "image/png": "[encoded data removed]",
      "text/plain": [
       "<Figure size 1440x720 with 1 Axes>"
      ]
     },
     "metadata": {
      "needs_background": "light"
     },
     "output_type": "display_data"
    }
   ],
   "source": [
    "plt.rcParams['figure.figsize'] = [20, 10] \n",
    "plt.bar(fclass,n)\n",
    "plt.grid()"
   ]
  },
  {
   "cell_type": "code",
   "execution_count": 11,
   "id": "aab8ee50",
   "metadata": {},
   "outputs": [],
   "source": [
    "sorted_idx = np.argsort(n)[::-1]\n",
    "fclass = np.array(fclass)"
   ]
  },
  {
   "cell_type": "code",
   "execution_count": 12,
   "id": "14484396",
   "metadata": {},
   "outputs": [
    {
     "name": "stdout",
     "output_type": "stream",
     "text": [
      "[122  82 150 121  81  41   0  40  83  42]\n"
     ]
    }
   ],
   "source": [
    "best = sorted_idx[:10]\n",
    "print(best)"
   ]
  },
  {
   "cell_type": "code",
   "execution_count": 14,
   "id": "c74977ce",
   "metadata": {},
   "outputs": [
    {
     "data": {
      "text/plain": [
       "array([164, 123, 204, 163, 122,  82,  41,  81, 124,  83])"
      ]
     },
     "execution_count": 14,
     "metadata": {},
     "output_type": "execute_result"
    }
   ],
   "source": [
    "fclass[best]"
   ]
  },
  {
   "cell_type": "code",
   "execution_count": null,
   "id": "bfd4e2aa",
   "metadata": {},
   "outputs": [],
   "source": []
  }
 ],
 "metadata": {
  "kernelspec": {
   "display_name": "Python 3",
   "language": "python",
   "name": "python3"
  },
  "language_info": {
   "codemirror_mode": {
    "name": "ipython",
    "version": 3
   },
   "file_extension": ".py",
   "mimetype": "text/x-python",
   "name": "python",
   "nbconvert_exporter": "python",
   "pygments_lexer": "ipython3",
   "version": "3.8.8"
  }
 },
 "nbformat": 4,
 "nbformat_minor": 5
}
