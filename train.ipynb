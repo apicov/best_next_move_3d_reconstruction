{
 "cells": [
  {
   "cell_type": "code",
   "execution_count": 22,
   "id": "resistant-database",
   "metadata": {},
   "outputs": [
    {
     "name": "stdout",
     "output_type": "stream",
     "text": [
      "GPUs:  1\n"
     ]
    }
   ],
   "source": [
    "from numpy import genfromtxt\n",
    "import tensorflow as tf\n",
    "import tensorflow.keras as keras\n",
    "'''#from keras.models import Sequential\n",
    "from keras.layers import Dense, Input, Lambda, Dropout\n",
    "from keras import regularizers\n",
    "#from keras.layers import Dropout\n",
    "from keras.constraints import maxnorm\n",
    "#from keras.wrappers.scikit_learn import KerasRegressor\n",
    "from keras.models import Model\n",
    "from keras import regularizers\n",
    "#from keras.layers.normalization import BatchNormalization\n",
    "from keras import backend as K\n",
    "from keras import objectives\n",
    "from keras.models import model_from_json\n",
    "from keras.layers import Input, Dense, Convolution1D, MaxPooling1D, UpSampling1D, AveragePooling1D, Flatten ,Reshape,ZeroPadding1D,Cropping1D\n",
    "from keras.models import Model\n",
    "#from keras.callbacks import TensorBoard\n",
    "from keras.regularizers import l2, l1\n",
    "from keras import optimizers\n",
    "from keras.layers.noise import GaussianNoise\n",
    "from keras.models import Sequential\n",
    "from keras.layers import Dense, Activation\n",
    "from keras import optimizers\n",
    "from keras.layers import Dense,concatenate, Input,TimeDistributed,LSTM, Lambda, Dropout, Reshape, Conv1D, Flatten, UpSampling1D, Flatten, BatchNormalization\n",
    "from keras.models import Model\n",
    "from keras.callbacks import EarlyStopping\n",
    "from keras.callbacks import TensorBoard\n",
    "from keras import backend as K'''\n",
    "\n",
    "import tensorflow.keras.backend as K\n",
    "\n",
    "from tensorflow.keras.optimizers import Adam\n",
    "from tensorflow.keras.models import Model\n",
    "from tensorflow.keras.layers import Input, Dense, Flatten, Reshape, LSTM, Lambda\n",
    "from tensorflow.keras.regularizers import l2\n",
    "from tensorflow.keras.layers import Conv2D, MaxPooling2D\n",
    "import tensorflow as tf\n",
    "\n",
    "\n",
    "from PIL import Image\n",
    "\n",
    "import os\n",
    "import sys\n",
    "import itertools\n",
    "#import keras_internal_model\n",
    "import pandas as pd\n",
    "import numpy as np\n",
    "#import train_tools as tt\n",
    "from numpy import genfromtxt\n",
    "from time import time\n",
    "\n",
    "import csv\n",
    "\n",
    "tf.compat.v1.enable_v2_behavior()\n",
    "\n",
    "\n",
    "gpus = tf.config.experimental.list_physical_devices('GPU')\n",
    "if gpus:\n",
    "  try:\n",
    "    tf.config.experimental.set_virtual_device_configuration(gpus[0], \n",
    "    [tf.config.experimental.VirtualDeviceConfiguration(memory_limit=512)])\n",
    "  except RuntimeError as e:\n",
    "    print(e)\n",
    "    \n",
    "    \n",
    "print(\"GPUs: \", len(tf.config.experimental.list_physical_devices('GPU')))\n",
    "tf.config.experimental.list_logical_devices('GPU')\n",
    "\n",
    "import cv2\n",
    "%matplotlib inline\n",
    "import matplotlib\n",
    "import matplotlib.pyplot as plt"
   ]
  },
  {
   "cell_type": "code",
   "execution_count": 7,
   "id": "streaming-demand",
   "metadata": {},
   "outputs": [],
   "source": [
    "def load_images(parent_path,imgs_paths):\n",
    "    imgs = []\n",
    "    for i in imgs_paths:\n",
    "        imgs.append( cv2.imread( os.path.join(parent_path,i)) )\n",
    "    return np.array(imgs)"
   ]
  },
  {
   "cell_type": "code",
   "execution_count": 5,
   "id": "certain-strip",
   "metadata": {},
   "outputs": [],
   "source": [
    "img_path = '/home/pico/uni/romi/rl_sony/best_next_move_3d_reconstruction/data/imgs'\n",
    "idx_file = '/home/pico/uni/romi/rl_sony/best_next_move_3d_reconstruction/data/samples_idx.csv'\n",
    "\n",
    "df = pd.read_csv(idx_file,usecols=(0,5,6))"
   ]
  },
  {
   "cell_type": "code",
   "execution_count": 14,
   "id": "coordinated-cannon",
   "metadata": {},
   "outputs": [],
   "source": [
    "imgs = load_images(img_path,df['img'])"
   ]
  },
  {
   "cell_type": "code",
   "execution_count": 17,
   "id": "preceding-picture",
   "metadata": {},
   "outputs": [
    {
     "name": "stdout",
     "output_type": "stream",
     "text": [
      "(25000, 82, 82, 3)\n"
     ]
    },
    {
     "data": {
      "text/html": [
       "<div>\n",
       "<style scoped>\n",
       "    .dataframe tbody tr th:only-of-type {\n",
       "        vertical-align: middle;\n",
       "    }\n",
       "\n",
       "    .dataframe tbody tr th {\n",
       "        vertical-align: top;\n",
       "    }\n",
       "\n",
       "    .dataframe thead th {\n",
       "        text-align: right;\n",
       "    }\n",
       "</style>\n",
       "<table border=\"1\" class=\"dataframe\">\n",
       "  <thead>\n",
       "    <tr style=\"text-align: right;\">\n",
       "      <th></th>\n",
       "      <th>img</th>\n",
       "      <th>dp2</th>\n",
       "      <th>dt2</th>\n",
       "    </tr>\n",
       "  </thead>\n",
       "  <tbody>\n",
       "    <tr>\n",
       "      <th>0</th>\n",
       "      <td>009_2d/657_116_281.png</td>\n",
       "      <td>-1</td>\n",
       "      <td>-20</td>\n",
       "    </tr>\n",
       "    <tr>\n",
       "      <th>1</th>\n",
       "      <td>001_2d/600_580_044.png</td>\n",
       "      <td>0</td>\n",
       "      <td>-20</td>\n",
       "    </tr>\n",
       "    <tr>\n",
       "      <th>2</th>\n",
       "      <td>006_2d/146_686_681.png</td>\n",
       "      <td>-3</td>\n",
       "      <td>-20</td>\n",
       "    </tr>\n",
       "    <tr>\n",
       "      <th>3</th>\n",
       "      <td>003_2d/511_158_511.png</td>\n",
       "      <td>-2</td>\n",
       "      <td>-13</td>\n",
       "    </tr>\n",
       "    <tr>\n",
       "      <th>4</th>\n",
       "      <td>001_2d/521_535_546.png</td>\n",
       "      <td>-3</td>\n",
       "      <td>20</td>\n",
       "    </tr>\n",
       "  </tbody>\n",
       "</table>\n",
       "</div>"
      ],
      "text/plain": [
       "                      img  dp2  dt2\n",
       "0  009_2d/657_116_281.png   -1  -20\n",
       "1  001_2d/600_580_044.png    0  -20\n",
       "2  006_2d/146_686_681.png   -3  -20\n",
       "3  003_2d/511_158_511.png   -2  -13\n",
       "4  001_2d/521_535_546.png   -3   20"
      ]
     },
     "execution_count": 17,
     "metadata": {},
     "output_type": "execute_result"
    }
   ],
   "source": [
    "print(imgs.shape)\n",
    "df.head()"
   ]
  },
  {
   "cell_type": "code",
   "execution_count": 32,
   "id": "banned-landscape",
   "metadata": {},
   "outputs": [],
   "source": [
    "y = df[['dp2','dt2']].values"
   ]
  },
  {
   "cell_type": "code",
   "execution_count": 35,
   "id": "trying-chemical",
   "metadata": {},
   "outputs": [],
   "source": [
    "th = 17500\n",
    "x_train = imgs[:th]\n",
    "y_train = y[:th]\n",
    "x_test = imgs[th:]\n",
    "y_test = y[th:]\n",
    "\n",
    "x_train = x_train.astype(\"float32\") / 255\n",
    "x_test = x_test.astype(\"float32\") / 255\n",
    "\n",
    "y_train = y_train.astype(\"float32\")\n",
    "y_test = y_test.astype(\"float32\")"
   ]
  },
  {
   "cell_type": "code",
   "execution_count": 27,
   "id": "driven-candy",
   "metadata": {},
   "outputs": [],
   "source": [
    "def conv_layer(d, k):\n",
    "    \"\"\" Returns a 2D Conv layer, with and ReLU activation\n",
    "    \"\"\"\n",
    "    # return Conv2D(d, k, activation = 'relu', padding = 'same', kernel_initializer = 'he_normal')\n",
    "    return Conv2D(d, k, activation = 'relu', padding = 'same', kernel_initializer = 'he_normal')\n",
    "def conv_block(inp, d=3, pool_size=(2, 2), k=3):\n",
    "    \"\"\" Returns a 2D Conv block, with a convolutional layer, max-pooling\n",
    "    \"\"\"\n",
    "    conv = conv_layer(d, k)(inp)\n",
    "    return MaxPooling2D(pool_size=pool_size)(conv)\n",
    "\n",
    "def network():\n",
    "    inp = Input((82,82,3))\n",
    "    x = conv_block(inp, 32, (2, 2), 8)\n",
    "    x = conv_block(x, 64, (2, 2), 4)\n",
    "    x = conv_block(x, 64, (2, 2), 3)\n",
    "    x = Flatten()(x)\n",
    "    x = Dense(256, activation='relu')(x)\n",
    "    x = Dense(2, activation='linear')(x)\n",
    "    return Model(inp, x)"
   ]
  },
  {
   "cell_type": "code",
   "execution_count": 53,
   "id": "lesbian-least",
   "metadata": {},
   "outputs": [],
   "source": [
    "model = network()"
   ]
  },
  {
   "cell_type": "code",
   "execution_count": 54,
   "id": "chicken-weather",
   "metadata": {},
   "outputs": [],
   "source": [
    "opt = keras.optimizers.Adam(learning_rate=0.01)\n",
    "model.compile(optimizer=opt, \n",
    "            loss=tf.keras.losses.MeanSquaredError(),\n",
    "            metrics=[tf.keras.metrics.MeanSquaredError()])"
   ]
  },
  {
   "cell_type": "code",
   "execution_count": 55,
   "id": "short-fight",
   "metadata": {},
   "outputs": [],
   "source": [
    "tensorboard_callback = tf.keras.callbacks.TensorBoard(log_dir=\"./generated_data/logs\",\n",
    "                                                        histogram_freq=1,\n",
    "                                                        write_images=True)"
   ]
  },
  {
   "cell_type": "code",
   "execution_count": null,
   "id": "foster-render",
   "metadata": {},
   "outputs": [
    {
     "name": "stdout",
     "output_type": "stream",
     "text": [
      "Epoch 1/100\n",
      "274/274 [==============================] - 10s 34ms/step - loss: 735.9317 - mean_squared_error: 735.9317 - val_loss: 172.6946 - val_mean_squared_error: 172.6946\n",
      "Epoch 2/100\n",
      "274/274 [==============================] - 9s 33ms/step - loss: 171.7066 - mean_squared_error: 171.7066 - val_loss: 172.6919 - val_mean_squared_error: 172.6919\n",
      "Epoch 3/100\n",
      "274/274 [==============================] - 9s 33ms/step - loss: 172.3628 - mean_squared_error: 172.3628 - val_loss: 172.6963 - val_mean_squared_error: 172.6963\n",
      "Epoch 4/100\n",
      "274/274 [==============================] - 9s 33ms/step - loss: 172.5219 - mean_squared_error: 172.5219 - val_loss: 172.7090 - val_mean_squared_error: 172.7090\n",
      "Epoch 5/100\n",
      "274/274 [==============================] - 9s 34ms/step - loss: 172.6708 - mean_squared_error: 172.6708 - val_loss: 172.7167 - val_mean_squared_error: 172.7167\n",
      "Epoch 6/100\n",
      "274/274 [==============================] - 9s 34ms/step - loss: 171.9783 - mean_squared_error: 171.9783 - val_loss: 172.7151 - val_mean_squared_error: 172.7151\n",
      "Epoch 7/100\n",
      "274/274 [==============================] - 10s 35ms/step - loss: 171.8459 - mean_squared_error: 171.8459 - val_loss: 172.6969 - val_mean_squared_error: 172.6969\n",
      "Epoch 8/100\n",
      "274/274 [==============================] - 10s 35ms/step - loss: 172.5030 - mean_squared_error: 172.5030 - val_loss: 172.7425 - val_mean_squared_error: 172.7425\n",
      "Epoch 9/100\n",
      "274/274 [==============================] - 9s 35ms/step - loss: 172.7246 - mean_squared_error: 172.7246 - val_loss: 172.6854 - val_mean_squared_error: 172.6854\n",
      "Epoch 10/100\n",
      "274/274 [==============================] - 10s 35ms/step - loss: 172.4413 - mean_squared_error: 172.4413 - val_loss: 172.7048 - val_mean_squared_error: 172.7048\n",
      "Epoch 11/100\n",
      "274/274 [==============================] - 10s 36ms/step - loss: 172.4459 - mean_squared_error: 172.4459 - val_loss: 172.7104 - val_mean_squared_error: 172.7104\n",
      "Epoch 12/100\n",
      "274/274 [==============================] - 10s 35ms/step - loss: 171.8586 - mean_squared_error: 171.8586 - val_loss: 172.7484 - val_mean_squared_error: 172.7484\n",
      "Epoch 13/100\n",
      "274/274 [==============================] - 9s 34ms/step - loss: 172.4376 - mean_squared_error: 172.4376 - val_loss: 172.7133 - val_mean_squared_error: 172.7133\n",
      "Epoch 14/100\n",
      "274/274 [==============================] - 10s 35ms/step - loss: 171.9143 - mean_squared_error: 171.9143 - val_loss: 172.7152 - val_mean_squared_error: 172.7152\n",
      "Epoch 15/100\n",
      "274/274 [==============================] - 10s 35ms/step - loss: 172.3515 - mean_squared_error: 172.3515 - val_loss: 172.7031 - val_mean_squared_error: 172.7031\n",
      "Epoch 16/100\n",
      " 15/274 [>.............................] - ETA: 7s - loss: 171.1300 - mean_squared_error: 171.1300"
     ]
    }
   ],
   "source": [
    "history = model.fit(\n",
    "    x_train,\n",
    "    y_train,\n",
    "    batch_size=64,\n",
    "    epochs=100,\n",
    "    validation_data=(x_test, y_test),\n",
    "    callbacks=[tensorboard_callback]\n",
    ")"
   ]
  },
  {
   "cell_type": "code",
   "execution_count": 52,
   "id": "western-entertainment",
   "metadata": {},
   "outputs": [
    {
     "data": {
      "text/plain": [
       "<matplotlib.image.AxesImage at 0x7f08c34bb220>"
      ]
     },
     "execution_count": 52,
     "metadata": {},
     "output_type": "execute_result"
    },
    {
     "data": {
      "image/png": "[encoded data removed]",
      "text/plain": [
       "<Figure size 432x288 with 1 Axes>"
      ]
     },
     "metadata": {
      "needs_background": "light"
     },
     "output_type": "display_data"
    }
   ],
   "source": [
    "#plt.imshow(x_train[0,:,:,2])"
   ]
  },
  {
   "cell_type": "code",
   "execution_count": 49,
   "id": "wanted-lemon",
   "metadata": {},
   "outputs": [
    {
     "data": {
      "text/plain": [
       "array([[0.2784314, 0.2784314, 0.2784314, ..., 0.2784314, 0.2784314,\n",
       "        0.2784314],\n",
       "       [0.2784314, 0.2784314, 0.2784314, ..., 0.2784314, 0.2784314,\n",
       "        0.2784314],\n",
       "       [0.2784314, 0.2784314, 0.2784314, ..., 0.2784314, 0.2784314,\n",
       "        0.2784314],\n",
       "       ...,\n",
       "       [0.2784314, 0.2784314, 0.2784314, ..., 0.2784314, 0.2784314,\n",
       "        0.2784314],\n",
       "       [0.2784314, 0.2784314, 0.2784314, ..., 0.2784314, 0.2784314,\n",
       "        0.2784314],\n",
       "       [0.2784314, 0.2784314, 0.2784314, ..., 0.2784314, 0.2784314,\n",
       "        0.2784314]], dtype=float32)"
      ]
     },
     "execution_count": 49,
     "metadata": {},
     "output_type": "execute_result"
    }
   ],
   "source": []
  },
  {
   "cell_type": "code",
   "execution_count": null,
   "id": "sorted-vinyl",
   "metadata": {},
   "outputs": [],
   "source": [
    "x_train.shape"
   ]
  },
  {
   "cell_type": "code",
   "execution_count": null,
   "id": "fewer-montgomery",
   "metadata": {},
   "outputs": [],
   "source": []
  }
 ],
 "metadata": {
  "kernelspec": {
   "display_name": "rl",
   "language": "python",
   "name": "rl"
  },
  "language_info": {
   "codemirror_mode": {
    "name": "ipython",
    "version": 3
   },
   "file_extension": ".py",
   "mimetype": "text/x-python",
   "name": "python",
   "nbconvert_exporter": "python",
   "pygments_lexer": "ipython3",
   "version": "3.8.8"
  }
 },
 "nbformat": 4,
 "nbformat_minor": 5
}
