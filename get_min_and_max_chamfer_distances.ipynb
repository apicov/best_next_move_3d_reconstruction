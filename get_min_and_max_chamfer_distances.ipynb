{
 "cells": [
  {
   "cell_type": "code",
   "execution_count": 1,
   "id": "complex-manual",
   "metadata": {},
   "outputs": [],
   "source": [
    "import open3d as o3d\n",
    "import cl\n",
    "import utils as ut\n",
    "import numpy as np\n",
    "from skimage.morphology import binary_dilation\n",
    "import proc3d\n",
    "import json\n",
    "from PIL import Image\n",
    "from utils import *\n",
    "import glob\n",
    "import os\n",
    "import json"
   ]
  },
  {
   "cell_type": "code",
   "execution_count": 2,
   "id": "related-broadcast",
   "metadata": {},
   "outputs": [],
   "source": [
    "class space_carving_2():\n",
    "    def __init__(self, dataset_path):\n",
    "        self.masks_files = sorted (glob.glob(os.path.join(dataset_path, 'masks', '*.png')) )#get all .png file names from folder path\n",
    "        self.extrinsics = self.load_extrinsics(os.path.join(dataset_path, 'extrinsics'))\n",
    "        self.bbox = json.load(open(os.path.join(dataset_path, 'bbox.json')))\n",
    "        self.camera_model = json.load(open(os.path.join(dataset_path, 'camera_model.json')))\n",
    "        self.intrinsics= self.camera_model['params'][0:4]\n",
    "        \n",
    "        params = json.load(open(os.path.join(dataset_path, 'params.json')))\n",
    "        self.gt=o3d.io.read_point_cloud(params[\"gt_path\"])\n",
    "        self.gt_points = np.asarray(self.gt.points)\n",
    "        self.n_dilation=params[\"sc\"][\"n_dilation\"]\n",
    "        self.voxel_size = params['sc']['voxel_size']\n",
    "        \n",
    "        self.set_sc(self.bbox)\n",
    "        \n",
    "    def reset(self):\n",
    "        del(self.sc)\n",
    "        self.set_sc(self.bbox) \n",
    "        \n",
    "    def load_extrinsics(self,path):\n",
    "        ext = []\n",
    "        ext_files = glob.glob(os.path.join(path, '*.json'))\n",
    "        assert len(ext_files) != 0,\"json list is empty.\"\n",
    "        for i in sorted(ext_files):                                                                                                                                     \n",
    "            ext.append(json.load(open(i)))                                                                                                                                                                                                                                                  \n",
    "        return ext \n",
    "    \n",
    "    def load_mask(self,idx):                                                                                                                                         \n",
    "        img = cv2.imread(self.masks_files[idx], cv2.IMREAD_GRAYSCALE)                                                                                                                                                                                                                                                                                                                                                                                     \n",
    "        return img\n",
    "\n",
    "    def set_sc(self,bbox):\n",
    "        x_min, x_max = bbox['x']\n",
    "        y_min, y_max = bbox['y']\n",
    "        z_min, z_max = bbox['z']\n",
    "\n",
    "        nx = int((x_max - x_min) / self.voxel_size) + 1\n",
    "        ny = int((y_max - y_min) / self.voxel_size) + 1\n",
    "        nz = int((z_max - z_min) / self.voxel_size) + 1\n",
    "\n",
    "        self.origin = np.array([x_min, y_min, z_min])\n",
    "        self.sc = cl.Backprojection([nx, ny, nz], [x_min, y_min, z_min], self.voxel_size)\n",
    "\n",
    "    def carve(self,idx):\n",
    "        im = self.load_mask(idx)\n",
    "        self.space_carve(im, self.extrinsics[idx])\n",
    "        \n",
    "    def space_carve(self, mask, rt):\n",
    "        #mask = im.copy() #get_mask(im)\n",
    "        rot = sum(rt['R'], [])\n",
    "        tvec = rt['T']\n",
    "        if self.n_dilation:\n",
    "            for k in range(self.n_dilation): mask = binary_dilation(mask)    \n",
    "        self.sc.process_view(self.intrinsics, rot, tvec, mask)\n",
    "        \n",
    "    def dist_to_gt(self):\n",
    "        vol = self.sc.values().copy()\n",
    "        vol = vol.reshape(self.sc.shape)\n",
    "        pcd=proc3d.vol2pcd_exp(vol, self.origin, self.voxel_size, level_set_value=0) \n",
    "        pcd_p = np.asarray(pcd.points)\n",
    "        cd=chamfer_d(self.gt_points , pcd_p)\n",
    "        return cd"
   ]
  },
  {
   "cell_type": "code",
   "execution_count": 5,
   "id": "hindu-attack",
   "metadata": {},
   "outputs": [],
   "source": [
    "data_path = '/home/pico/uni/romi/rl_sony/arabidopsis_image_sets/'\n",
    "#plants = [ '001_2d','003_2d','006_2d','009_2d','124_2d','195_2d']\n",
    "#plants = ['000_2d']"
   ]
  },
  {
   "cell_type": "code",
   "execution_count": 6,
   "id": "expired-instruction",
   "metadata": {},
   "outputs": [
    {
     "name": "stdout",
     "output_type": "stream",
     "text": [
      "719 6.892435145455418        \r"
     ]
    }
   ],
   "source": [
    "for plant in plants:\n",
    "    sc = space_carving_2(os.path.join(data_path,plant))\n",
    "    min_max = {}\n",
    "    #carve all images to get min achievable distance\n",
    "    sc.reset()\n",
    "    for i in range(720):\n",
    "        sc.carve(i)\n",
    "        if i==179: #first row completed\n",
    "            min_max['1d_min'] = sc.dist_to_gt()\n",
    "            \n",
    "    min_max['min'] = sc.dist_to_gt()\n",
    "    \n",
    "    #carve each image independently\n",
    "    distances = []\n",
    "    for i in range(720):\n",
    "        sc.reset()\n",
    "        sc.carve(i)\n",
    "        dist = sc.dist_to_gt()\n",
    "        distances.append(dist)\n",
    "        \n",
    "        if i==179: #first row completed\n",
    "            min_max['1d_max'] = max(distances)           \n",
    "        print(i,f\"{dist}       \",end='\\r')\n",
    "        \n",
    "    min_max['max'] = max(distances)\n",
    "    \n",
    "    with open(os.path.join(data_path,plant,'chamfer_distance_gt_limits.json'), 'w') as json_file:\n",
    "            json.dump(min_max, json_file)"
   ]
  },
  {
   "cell_type": "code",
   "execution_count": null,
   "id": "recovered-reader",
   "metadata": {},
   "outputs": [],
   "source": []
  }
 ],
 "metadata": {
  "kernelspec": {
   "display_name": "rl",
   "language": "python",
   "name": "rl"
  },
  "language_info": {
   "codemirror_mode": {
    "name": "ipython",
    "version": 3
   },
   "file_extension": ".py",
   "mimetype": "text/x-python",
   "name": "python",
   "nbconvert_exporter": "python",
   "pygments_lexer": "ipython3",
   "version": "3.8.8"
  }
 },
 "nbformat": 4,
 "nbformat_minor": 5
}
