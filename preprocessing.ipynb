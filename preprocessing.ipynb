{
 "cells": [
  {
   "cell_type": "code",
   "execution_count": 2,
   "id": "hollywood-guard",
   "metadata": {},
   "outputs": [
    {
     "name": "stdout",
     "output_type": "stream",
     "text": [
      "GPUs:  1\n"
     ]
    }
   ],
   "source": [
    "from numpy import genfromtxt\n",
    "import tensorflow as tf\n",
    "import tensorflow.keras as keras\n",
    "'''#from keras.models import Sequential\n",
    "from keras.layers import Dense, Input, Lambda, Dropout\n",
    "from keras import regularizers\n",
    "#from keras.layers import Dropout\n",
    "from keras.constraints import maxnorm\n",
    "#from keras.wrappers.scikit_learn import KerasRegressor\n",
    "from keras.models import Model\n",
    "from keras import regularizers\n",
    "#from keras.layers.normalization import BatchNormalization\n",
    "from keras import backend as K\n",
    "from keras import objectives\n",
    "from keras.models import model_from_json\n",
    "from keras.layers import Input, Dense, Convolution1D, MaxPooling1D, UpSampling1D, AveragePooling1D, Flatten ,Reshape,ZeroPadding1D,Cropping1D\n",
    "from keras.models import Model\n",
    "#from keras.callbacks import TensorBoard\n",
    "from keras.regularizers import l2, l1\n",
    "from keras import optimizers\n",
    "from keras.layers.noise import GaussianNoise\n",
    "from keras.models import Sequential\n",
    "from keras.layers import Dense, Activation\n",
    "from keras import optimizers\n",
    "from keras.layers import Dense,concatenate, Input,TimeDistributed,LSTM, Lambda, Dropout, Reshape, Conv1D, Flatten, UpSampling1D, Flatten, BatchNormalization\n",
    "from keras.models import Model\n",
    "from keras.callbacks import EarlyStopping\n",
    "from keras.callbacks import TensorBoard\n",
    "from keras import backend as K'''\n",
    "from PIL import Image\n",
    "\n",
    "import os\n",
    "import sys\n",
    "import itertools\n",
    "#import keras_internal_model\n",
    "import pandas as pd\n",
    "import numpy as np\n",
    "#import train_tools as tt\n",
    "from numpy import genfromtxt\n",
    "from time import time\n",
    "\n",
    "import csv\n",
    "\n",
    "tf.compat.v1.enable_v2_behavior()\n",
    "\n",
    "\n",
    "gpus = tf.config.experimental.list_physical_devices('GPU')\n",
    "if gpus:\n",
    "  try:\n",
    "    tf.config.experimental.set_virtual_device_configuration(gpus[0], \n",
    "    [tf.config.experimental.VirtualDeviceConfiguration(memory_limit=512)])\n",
    "  except RuntimeError as e:\n",
    "    print(e)\n",
    "    \n",
    "    \n",
    "print(\"GPUs: \", len(tf.config.experimental.list_physical_devices('GPU')))\n",
    "tf.config.experimental.list_logical_devices('GPU')\n",
    "\n",
    "import cv2\n",
    "%matplotlib inline\n",
    "import matplotlib\n",
    "import matplotlib.pyplot as plt"
   ]
  },
  {
   "cell_type": "code",
   "execution_count": 23,
   "id": "furnished-spanking",
   "metadata": {},
   "outputs": [],
   "source": [
    "def n2c(n,stride=180): #number to coordinate\n",
    "    row = n//stride\n",
    "    col = n%stride\n",
    "    return (row,col)\n",
    "\n",
    "def c2n(c,stride=180): #coordinate to number\n",
    "    return c[0]*stride + c[1]\n",
    "\n"
   ]
  },
  {
   "cell_type": "code",
   "execution_count": 24,
   "id": "technological-frontier",
   "metadata": {},
   "outputs": [],
   "source": [
    "dataset_path = '/home/pico/uni/romi/rl_sony/arabidopsis_image_sets'\n",
    "plants = ['000_2d', '001_2d','003_2d','006_2d','009_2d']\n",
    "\n",
    "dest_path = '/home/pico/uni/romi/rl_sony/supervised_learning/data'\n",
    "#if not os.path.exists(dest_path):\n",
    "#    os.makedirs(dest_path)\n",
    "\n",
    "sample_files_path = os.path.join(dest_path,'raw_samples')"
   ]
  },
  {
   "cell_type": "code",
   "execution_count": 28,
   "id": "prescription-namibia",
   "metadata": {},
   "outputs": [
    {
     "ename": "ValueError",
     "evalue": "header must be integer or list of integers",
     "output_type": "error",
     "traceback": [
      "\u001b[0;31m---------------------------------------------------------------------------\u001b[0m",
      "\u001b[0;31mValueError\u001b[0m                                Traceback (most recent call last)",
      "\u001b[0;32m<ipython-input-28-49286d161dab>\u001b[0m in \u001b[0;36m<module>\u001b[0;34m\u001b[0m\n\u001b[1;32m      1\u001b[0m \u001b[0mplant\u001b[0m \u001b[0;34m=\u001b[0m \u001b[0;34m'000_2d'\u001b[0m\u001b[0;34m\u001b[0m\u001b[0;34m\u001b[0m\u001b[0m\n\u001b[0;32m----> 2\u001b[0;31m df = pd.read_csv(os.path.join(sample_files_path, plant+'_classifier_samples.csv'),\n\u001b[0m\u001b[1;32m      3\u001b[0m                 \u001b[0mheader\u001b[0m\u001b[0;34m=\u001b[0m\u001b[0;34m[\u001b[0m\u001b[0;34m'i0'\u001b[0m\u001b[0;34m,\u001b[0m\u001b[0;34m'i1'\u001b[0m\u001b[0;34m,\u001b[0m\u001b[0;34m'i2'\u001b[0m\u001b[0;34m,\u001b[0m\u001b[0;34m'i3'\u001b[0m\u001b[0;34m]\u001b[0m\u001b[0;34m,\u001b[0m\u001b[0;34m\u001b[0m\u001b[0;34m\u001b[0m\u001b[0m\n\u001b[1;32m      4\u001b[0m                 usecols=(0,1,2,3))\n",
      "\u001b[0;32m~/anaconda3/envs/rl/lib/python3.8/site-packages/pandas/io/parsers.py\u001b[0m in \u001b[0;36mread_csv\u001b[0;34m(filepath_or_buffer, sep, delimiter, header, names, index_col, usecols, squeeze, prefix, mangle_dupe_cols, dtype, engine, converters, true_values, false_values, skipinitialspace, skiprows, skipfooter, nrows, na_values, keep_default_na, na_filter, verbose, skip_blank_lines, parse_dates, infer_datetime_format, keep_date_col, date_parser, dayfirst, cache_dates, iterator, chunksize, compression, thousands, decimal, lineterminator, quotechar, quoting, doublequote, escapechar, comment, encoding, dialect, error_bad_lines, warn_bad_lines, delim_whitespace, low_memory, memory_map, float_precision, storage_options)\u001b[0m\n\u001b[1;32m    608\u001b[0m     \u001b[0mkwds\u001b[0m\u001b[0;34m.\u001b[0m\u001b[0mupdate\u001b[0m\u001b[0;34m(\u001b[0m\u001b[0mkwds_defaults\u001b[0m\u001b[0;34m)\u001b[0m\u001b[0;34m\u001b[0m\u001b[0;34m\u001b[0m\u001b[0m\n\u001b[1;32m    609\u001b[0m \u001b[0;34m\u001b[0m\u001b[0m\n\u001b[0;32m--> 610\u001b[0;31m     \u001b[0;32mreturn\u001b[0m \u001b[0m_read\u001b[0m\u001b[0;34m(\u001b[0m\u001b[0mfilepath_or_buffer\u001b[0m\u001b[0;34m,\u001b[0m \u001b[0mkwds\u001b[0m\u001b[0;34m)\u001b[0m\u001b[0;34m\u001b[0m\u001b[0;34m\u001b[0m\u001b[0m\n\u001b[0m\u001b[1;32m    611\u001b[0m \u001b[0;34m\u001b[0m\u001b[0m\n\u001b[1;32m    612\u001b[0m \u001b[0;34m\u001b[0m\u001b[0m\n",
      "\u001b[0;32m~/anaconda3/envs/rl/lib/python3.8/site-packages/pandas/io/parsers.py\u001b[0m in \u001b[0;36m_read\u001b[0;34m(filepath_or_buffer, kwds)\u001b[0m\n\u001b[1;32m    460\u001b[0m \u001b[0;34m\u001b[0m\u001b[0m\n\u001b[1;32m    461\u001b[0m     \u001b[0;31m# Create the parser.\u001b[0m\u001b[0;34m\u001b[0m\u001b[0;34m\u001b[0m\u001b[0;34m\u001b[0m\u001b[0m\n\u001b[0;32m--> 462\u001b[0;31m     \u001b[0mparser\u001b[0m \u001b[0;34m=\u001b[0m \u001b[0mTextFileReader\u001b[0m\u001b[0;34m(\u001b[0m\u001b[0mfilepath_or_buffer\u001b[0m\u001b[0;34m,\u001b[0m \u001b[0;34m**\u001b[0m\u001b[0mkwds\u001b[0m\u001b[0;34m)\u001b[0m\u001b[0;34m\u001b[0m\u001b[0;34m\u001b[0m\u001b[0m\n\u001b[0m\u001b[1;32m    463\u001b[0m \u001b[0;34m\u001b[0m\u001b[0m\n\u001b[1;32m    464\u001b[0m     \u001b[0;32mif\u001b[0m \u001b[0mchunksize\u001b[0m \u001b[0;32mor\u001b[0m \u001b[0miterator\u001b[0m\u001b[0;34m:\u001b[0m\u001b[0;34m\u001b[0m\u001b[0;34m\u001b[0m\u001b[0m\n",
      "\u001b[0;32m~/anaconda3/envs/rl/lib/python3.8/site-packages/pandas/io/parsers.py\u001b[0m in \u001b[0;36m__init__\u001b[0;34m(self, f, engine, **kwds)\u001b[0m\n\u001b[1;32m    817\u001b[0m             \u001b[0mself\u001b[0m\u001b[0;34m.\u001b[0m\u001b[0moptions\u001b[0m\u001b[0;34m[\u001b[0m\u001b[0;34m\"has_index_names\"\u001b[0m\u001b[0;34m]\u001b[0m \u001b[0;34m=\u001b[0m \u001b[0mkwds\u001b[0m\u001b[0;34m[\u001b[0m\u001b[0;34m\"has_index_names\"\u001b[0m\u001b[0;34m]\u001b[0m\u001b[0;34m\u001b[0m\u001b[0;34m\u001b[0m\u001b[0m\n\u001b[1;32m    818\u001b[0m \u001b[0;34m\u001b[0m\u001b[0m\n\u001b[0;32m--> 819\u001b[0;31m         \u001b[0mself\u001b[0m\u001b[0;34m.\u001b[0m\u001b[0m_engine\u001b[0m \u001b[0;34m=\u001b[0m \u001b[0mself\u001b[0m\u001b[0;34m.\u001b[0m\u001b[0m_make_engine\u001b[0m\u001b[0;34m(\u001b[0m\u001b[0mself\u001b[0m\u001b[0;34m.\u001b[0m\u001b[0mengine\u001b[0m\u001b[0;34m)\u001b[0m\u001b[0;34m\u001b[0m\u001b[0;34m\u001b[0m\u001b[0m\n\u001b[0m\u001b[1;32m    820\u001b[0m \u001b[0;34m\u001b[0m\u001b[0m\n\u001b[1;32m    821\u001b[0m     \u001b[0;32mdef\u001b[0m \u001b[0mclose\u001b[0m\u001b[0;34m(\u001b[0m\u001b[0mself\u001b[0m\u001b[0;34m)\u001b[0m\u001b[0;34m:\u001b[0m\u001b[0;34m\u001b[0m\u001b[0;34m\u001b[0m\u001b[0m\n",
      "\u001b[0;32m~/anaconda3/envs/rl/lib/python3.8/site-packages/pandas/io/parsers.py\u001b[0m in \u001b[0;36m_make_engine\u001b[0;34m(self, engine)\u001b[0m\n\u001b[1;32m   1048\u001b[0m             )\n\u001b[1;32m   1049\u001b[0m         \u001b[0;31m# error: Too many arguments for \"ParserBase\"\u001b[0m\u001b[0;34m\u001b[0m\u001b[0;34m\u001b[0m\u001b[0;34m\u001b[0m\u001b[0m\n\u001b[0;32m-> 1050\u001b[0;31m         \u001b[0;32mreturn\u001b[0m \u001b[0mmapping\u001b[0m\u001b[0;34m[\u001b[0m\u001b[0mengine\u001b[0m\u001b[0;34m]\u001b[0m\u001b[0;34m(\u001b[0m\u001b[0mself\u001b[0m\u001b[0;34m.\u001b[0m\u001b[0mf\u001b[0m\u001b[0;34m,\u001b[0m \u001b[0;34m**\u001b[0m\u001b[0mself\u001b[0m\u001b[0;34m.\u001b[0m\u001b[0moptions\u001b[0m\u001b[0;34m)\u001b[0m  \u001b[0;31m# type: ignore[call-arg]\u001b[0m\u001b[0;34m\u001b[0m\u001b[0;34m\u001b[0m\u001b[0m\n\u001b[0m\u001b[1;32m   1051\u001b[0m \u001b[0;34m\u001b[0m\u001b[0m\n\u001b[1;32m   1052\u001b[0m     \u001b[0;32mdef\u001b[0m \u001b[0m_failover_to_python\u001b[0m\u001b[0;34m(\u001b[0m\u001b[0mself\u001b[0m\u001b[0;34m)\u001b[0m\u001b[0;34m:\u001b[0m\u001b[0;34m\u001b[0m\u001b[0;34m\u001b[0m\u001b[0m\n",
      "\u001b[0;32m~/anaconda3/envs/rl/lib/python3.8/site-packages/pandas/io/parsers.py\u001b[0m in \u001b[0;36m__init__\u001b[0;34m(self, src, **kwds)\u001b[0m\n\u001b[1;32m   1855\u001b[0m         \u001b[0mkwds\u001b[0m \u001b[0;34m=\u001b[0m \u001b[0mkwds\u001b[0m\u001b[0;34m.\u001b[0m\u001b[0mcopy\u001b[0m\u001b[0;34m(\u001b[0m\u001b[0;34m)\u001b[0m\u001b[0;34m\u001b[0m\u001b[0;34m\u001b[0m\u001b[0m\n\u001b[1;32m   1856\u001b[0m \u001b[0;34m\u001b[0m\u001b[0m\n\u001b[0;32m-> 1857\u001b[0;31m         \u001b[0mParserBase\u001b[0m\u001b[0;34m.\u001b[0m\u001b[0m__init__\u001b[0m\u001b[0;34m(\u001b[0m\u001b[0mself\u001b[0m\u001b[0;34m,\u001b[0m \u001b[0mkwds\u001b[0m\u001b[0;34m)\u001b[0m\u001b[0;34m\u001b[0m\u001b[0;34m\u001b[0m\u001b[0m\n\u001b[0m\u001b[1;32m   1858\u001b[0m \u001b[0;34m\u001b[0m\u001b[0m\n\u001b[1;32m   1859\u001b[0m         \u001b[0;31m# #2442\u001b[0m\u001b[0;34m\u001b[0m\u001b[0;34m\u001b[0m\u001b[0;34m\u001b[0m\u001b[0m\n",
      "\u001b[0;32m~/anaconda3/envs/rl/lib/python3.8/site-packages/pandas/io/parsers.py\u001b[0m in \u001b[0;36m__init__\u001b[0;34m(self, kwds)\u001b[0m\n\u001b[1;32m   1308\u001b[0m         \u001b[0;32mif\u001b[0m \u001b[0misinstance\u001b[0m\u001b[0;34m(\u001b[0m\u001b[0mself\u001b[0m\u001b[0;34m.\u001b[0m\u001b[0mheader\u001b[0m\u001b[0;34m,\u001b[0m \u001b[0;34m(\u001b[0m\u001b[0mlist\u001b[0m\u001b[0;34m,\u001b[0m \u001b[0mtuple\u001b[0m\u001b[0;34m,\u001b[0m \u001b[0mnp\u001b[0m\u001b[0;34m.\u001b[0m\u001b[0mndarray\u001b[0m\u001b[0;34m)\u001b[0m\u001b[0;34m)\u001b[0m\u001b[0;34m:\u001b[0m\u001b[0;34m\u001b[0m\u001b[0;34m\u001b[0m\u001b[0m\n\u001b[1;32m   1309\u001b[0m             \u001b[0;32mif\u001b[0m \u001b[0;32mnot\u001b[0m \u001b[0mall\u001b[0m\u001b[0;34m(\u001b[0m\u001b[0mmap\u001b[0m\u001b[0;34m(\u001b[0m\u001b[0mis_integer\u001b[0m\u001b[0;34m,\u001b[0m \u001b[0mself\u001b[0m\u001b[0;34m.\u001b[0m\u001b[0mheader\u001b[0m\u001b[0;34m)\u001b[0m\u001b[0;34m)\u001b[0m\u001b[0;34m:\u001b[0m\u001b[0;34m\u001b[0m\u001b[0;34m\u001b[0m\u001b[0m\n\u001b[0;32m-> 1310\u001b[0;31m                 \u001b[0;32mraise\u001b[0m \u001b[0mValueError\u001b[0m\u001b[0;34m(\u001b[0m\u001b[0;34m\"header must be integer or list of integers\"\u001b[0m\u001b[0;34m)\u001b[0m\u001b[0;34m\u001b[0m\u001b[0;34m\u001b[0m\u001b[0m\n\u001b[0m\u001b[1;32m   1311\u001b[0m             \u001b[0;32mif\u001b[0m \u001b[0many\u001b[0m\u001b[0;34m(\u001b[0m\u001b[0mi\u001b[0m \u001b[0;34m<\u001b[0m \u001b[0;36m0\u001b[0m \u001b[0;32mfor\u001b[0m \u001b[0mi\u001b[0m \u001b[0;32min\u001b[0m \u001b[0mself\u001b[0m\u001b[0;34m.\u001b[0m\u001b[0mheader\u001b[0m\u001b[0;34m)\u001b[0m\u001b[0;34m:\u001b[0m\u001b[0;34m\u001b[0m\u001b[0;34m\u001b[0m\u001b[0m\n\u001b[1;32m   1312\u001b[0m                 raise ValueError(\n",
      "\u001b[0;31mValueError\u001b[0m: header must be integer or list of integers"
     ]
    }
   ],
   "source": [
    "plant = '000_2d'\n",
    "df = pd.read_csv(os.path.join(sample_files_path, plant+'_classifier_samples.csv'),\n",
    "                header=['i0','i1','i2','i3'],\n",
    "                usecols=(0,1,2,3))"
   ]
  },
  {
   "cell_type": "code",
   "execution_count": 26,
   "id": "czech-indian",
   "metadata": {},
   "outputs": [
    {
     "data": {
      "text/html": [
       "<div>\n",
       "<style scoped>\n",
       "    .dataframe tbody tr th:only-of-type {\n",
       "        vertical-align: middle;\n",
       "    }\n",
       "\n",
       "    .dataframe tbody tr th {\n",
       "        vertical-align: top;\n",
       "    }\n",
       "\n",
       "    .dataframe thead th {\n",
       "        text-align: right;\n",
       "    }\n",
       "</style>\n",
       "<table border=\"1\" class=\"dataframe\">\n",
       "  <thead>\n",
       "    <tr style=\"text-align: right;\">\n",
       "      <th></th>\n",
       "      <th>130</th>\n",
       "      <th>129</th>\n",
       "      <th>672</th>\n",
       "      <th>152</th>\n",
       "      <th>3.346346753436619</th>\n",
       "      <th>3.1905858538885914</th>\n",
       "      <th>2.9849759833340923</th>\n",
       "      <th>2.8592197952016605</th>\n",
       "      <th>2.778115809461812</th>\n",
       "      <th>2.7414990506034993</th>\n",
       "      <th>...</th>\n",
       "      <th>3.9993693990876023</th>\n",
       "      <th>3.9508115573647085</th>\n",
       "      <th>3.887359227778998</th>\n",
       "      <th>3.8138759975267575</th>\n",
       "      <th>3.757078912936063</th>\n",
       "      <th>3.692028667408092</th>\n",
       "      <th>3.6617987193866806</th>\n",
       "      <th>3.5918539384825365</th>\n",
       "      <th>3.5467426716583117</th>\n",
       "      <th>3.4900446396416664</th>\n",
       "    </tr>\n",
       "  </thead>\n",
       "  <tbody>\n",
       "    <tr>\n",
       "      <th>0</th>\n",
       "      <td>16</td>\n",
       "      <td>212</td>\n",
       "      <td>50</td>\n",
       "      <td>36</td>\n",
       "      <td>2.095825</td>\n",
       "      <td>1.845990</td>\n",
       "      <td>1.625859</td>\n",
       "      <td>1.455313</td>\n",
       "      <td>1.388480</td>\n",
       "      <td>1.358760</td>\n",
       "      <td>...</td>\n",
       "      <td>2.229699</td>\n",
       "      <td>2.195776</td>\n",
       "      <td>2.159239</td>\n",
       "      <td>2.131034</td>\n",
       "      <td>2.113553</td>\n",
       "      <td>2.095273</td>\n",
       "      <td>2.093895</td>\n",
       "      <td>2.111382</td>\n",
       "      <td>2.130441</td>\n",
       "      <td>2.146685</td>\n",
       "    </tr>\n",
       "    <tr>\n",
       "      <th>1</th>\n",
       "      <td>610</td>\n",
       "      <td>596</td>\n",
       "      <td>609</td>\n",
       "      <td>240</td>\n",
       "      <td>2.844349</td>\n",
       "      <td>2.811218</td>\n",
       "      <td>2.800986</td>\n",
       "      <td>2.806857</td>\n",
       "      <td>2.774934</td>\n",
       "      <td>2.715718</td>\n",
       "      <td>...</td>\n",
       "      <td>4.272653</td>\n",
       "      <td>4.293238</td>\n",
       "      <td>4.294151</td>\n",
       "      <td>4.305179</td>\n",
       "      <td>4.288358</td>\n",
       "      <td>4.301647</td>\n",
       "      <td>4.280296</td>\n",
       "      <td>4.278563</td>\n",
       "      <td>4.245432</td>\n",
       "      <td>4.253695</td>\n",
       "    </tr>\n",
       "    <tr>\n",
       "      <th>2</th>\n",
       "      <td>580</td>\n",
       "      <td>587</td>\n",
       "      <td>421</td>\n",
       "      <td>41</td>\n",
       "      <td>1.720369</td>\n",
       "      <td>1.775860</td>\n",
       "      <td>1.817424</td>\n",
       "      <td>1.838625</td>\n",
       "      <td>1.857696</td>\n",
       "      <td>1.838858</td>\n",
       "      <td>...</td>\n",
       "      <td>2.295139</td>\n",
       "      <td>2.279029</td>\n",
       "      <td>2.270538</td>\n",
       "      <td>2.266389</td>\n",
       "      <td>2.249724</td>\n",
       "      <td>2.246579</td>\n",
       "      <td>2.236685</td>\n",
       "      <td>2.233920</td>\n",
       "      <td>2.224944</td>\n",
       "      <td>2.221321</td>\n",
       "    </tr>\n",
       "    <tr>\n",
       "      <th>3</th>\n",
       "      <td>524</td>\n",
       "      <td>348</td>\n",
       "      <td>180</td>\n",
       "      <td>16</td>\n",
       "      <td>2.251956</td>\n",
       "      <td>2.243119</td>\n",
       "      <td>2.257362</td>\n",
       "      <td>2.316468</td>\n",
       "      <td>2.428631</td>\n",
       "      <td>2.453351</td>\n",
       "      <td>...</td>\n",
       "      <td>2.300255</td>\n",
       "      <td>2.278540</td>\n",
       "      <td>2.270896</td>\n",
       "      <td>2.271310</td>\n",
       "      <td>2.252579</td>\n",
       "      <td>2.229838</td>\n",
       "      <td>2.210707</td>\n",
       "      <td>2.202376</td>\n",
       "      <td>2.190642</td>\n",
       "      <td>2.180041</td>\n",
       "    </tr>\n",
       "    <tr>\n",
       "      <th>4</th>\n",
       "      <td>512</td>\n",
       "      <td>673</td>\n",
       "      <td>692</td>\n",
       "      <td>172</td>\n",
       "      <td>3.433645</td>\n",
       "      <td>3.583463</td>\n",
       "      <td>3.646599</td>\n",
       "      <td>3.611160</td>\n",
       "      <td>3.464750</td>\n",
       "      <td>3.263902</td>\n",
       "      <td>...</td>\n",
       "      <td>3.919883</td>\n",
       "      <td>3.893079</td>\n",
       "      <td>3.842710</td>\n",
       "      <td>3.813022</td>\n",
       "      <td>3.815614</td>\n",
       "      <td>3.879196</td>\n",
       "      <td>3.932251</td>\n",
       "      <td>3.945653</td>\n",
       "      <td>3.969694</td>\n",
       "      <td>4.025236</td>\n",
       "    </tr>\n",
       "  </tbody>\n",
       "</table>\n",
       "<p>5 rows × 168 columns</p>\n",
       "</div>"
      ],
      "text/plain": [
       "   130  129  672  152  3.346346753436619  3.1905858538885914  \\\n",
       "0   16  212   50   36           2.095825            1.845990   \n",
       "1  610  596  609  240           2.844349            2.811218   \n",
       "2  580  587  421   41           1.720369            1.775860   \n",
       "3  524  348  180   16           2.251956            2.243119   \n",
       "4  512  673  692  172           3.433645            3.583463   \n",
       "\n",
       "   2.9849759833340923  2.8592197952016605  2.778115809461812  \\\n",
       "0            1.625859            1.455313           1.388480   \n",
       "1            2.800986            2.806857           2.774934   \n",
       "2            1.817424            1.838625           1.857696   \n",
       "3            2.257362            2.316468           2.428631   \n",
       "4            3.646599            3.611160           3.464750   \n",
       "\n",
       "   2.7414990506034993  ...  3.9993693990876023  3.9508115573647085  \\\n",
       "0            1.358760  ...            2.229699            2.195776   \n",
       "1            2.715718  ...            4.272653            4.293238   \n",
       "2            1.838858  ...            2.295139            2.279029   \n",
       "3            2.453351  ...            2.300255            2.278540   \n",
       "4            3.263902  ...            3.919883            3.893079   \n",
       "\n",
       "   3.887359227778998  3.8138759975267575  3.757078912936063  \\\n",
       "0           2.159239            2.131034           2.113553   \n",
       "1           4.294151            4.305179           4.288358   \n",
       "2           2.270538            2.266389           2.249724   \n",
       "3           2.270896            2.271310           2.252579   \n",
       "4           3.842710            3.813022           3.815614   \n",
       "\n",
       "   3.692028667408092  3.6617987193866806  3.5918539384825365  \\\n",
       "0           2.095273            2.093895            2.111382   \n",
       "1           4.301647            4.280296            4.278563   \n",
       "2           2.246579            2.236685            2.233920   \n",
       "3           2.229838            2.210707            2.202376   \n",
       "4           3.879196            3.932251            3.945653   \n",
       "\n",
       "   3.5467426716583117  3.4900446396416664  \n",
       "0            2.130441            2.146685  \n",
       "1            4.245432            4.253695  \n",
       "2            2.224944            2.221321  \n",
       "3            2.190642            2.180041  \n",
       "4            3.969694            4.025236  \n",
       "\n",
       "[5 rows x 168 columns]"
      ]
     },
     "execution_count": 26,
     "metadata": {},
     "output_type": "execute_result"
    }
   ],
   "source": [
    "df.head()"
   ]
  },
  {
   "cell_type": "code",
   "execution_count": null,
   "id": "amended-escape",
   "metadata": {},
   "outputs": [],
   "source": []
  },
  {
   "cell_type": "code",
   "execution_count": 7,
   "id": "secret-confidence",
   "metadata": {},
   "outputs": [],
   "source": [
    "a = cv2.imread(os.path.join(plant001,'000_000.png'),0)\n",
    "b = cv2.imread(os.path.join(plant001,'000_001.png'),0)\n",
    "c = cv2.imread(os.path.join(plant001,'003_002.png'),0)"
   ]
  },
  {
   "cell_type": "code",
   "execution_count": 8,
   "id": "enormous-substitute",
   "metadata": {},
   "outputs": [],
   "source": [
    "merged = np.stack((a,b,c),axis=2)"
   ]
  },
  {
   "cell_type": "code",
   "execution_count": 9,
   "id": "demonstrated-enlargement",
   "metadata": {},
   "outputs": [
    {
     "data": {
      "text/plain": [
       "<matplotlib.image.AxesImage at 0x7efefd5ee820>"
      ]
     },
     "execution_count": 9,
     "metadata": {},
     "output_type": "execute_result"
    },
    {
     "data": {
      "image/png": "[encoded data removed]",
      "text/plain": [
       "<Figure size 432x288 with 1 Axes>"
      ]
     },
     "metadata": {
      "needs_background": "light"
     },
     "output_type": "display_data"
    }
   ],
   "source": [
    "plt.imshow(merged[:,:,:], cmap='gray', vmin=0, vmax=255)"
   ]
  },
  {
   "cell_type": "code",
   "execution_count": 10,
   "id": "eastern-bleeding",
   "metadata": {},
   "outputs": [
    {
     "data": {
      "text/plain": [
       "(82, 82, 3)"
      ]
     },
     "execution_count": 10,
     "metadata": {},
     "output_type": "execute_result"
    }
   ],
   "source": [
    "merged.shape"
   ]
  },
  {
   "cell_type": "code",
   "execution_count": 15,
   "id": "fitted-disorder",
   "metadata": {},
   "outputs": [
    {
     "data": {
      "text/plain": [
       "True"
      ]
     },
     "execution_count": 15,
     "metadata": {},
     "output_type": "execute_result"
    }
   ],
   "source": [
    "cv2.imwrite('test.png',merged)"
   ]
  },
  {
   "cell_type": "code",
   "execution_count": 52,
   "id": "isolated-pantyhose",
   "metadata": {},
   "outputs": [],
   "source": [
    "a = list (os.walk(dataset_path))"
   ]
  },
  {
   "cell_type": "code",
   "execution_count": 16,
   "id": "stopped-stamp",
   "metadata": {},
   "outputs": [],
   "source": [
    "d = cv2.imread('test.png')"
   ]
  },
  {
   "cell_type": "code",
   "execution_count": 17,
   "id": "marked-london",
   "metadata": {},
   "outputs": [
    {
     "data": {
      "text/plain": [
       "<matplotlib.image.AxesImage at 0x7efefd4bb6d0>"
      ]
     },
     "execution_count": 17,
     "metadata": {},
     "output_type": "execute_result"
    },
    {
     "data": {
      "image/png": "[encoded data removed]",
      "text/plain": [
       "<Figure size 432x288 with 1 Axes>"
      ]
     },
     "metadata": {
      "needs_background": "light"
     },
     "output_type": "display_data"
    }
   ],
   "source": [
    "plt.imshow(merged[:,:,:], cmap='gray', vmin=0, vmax=255)"
   ]
  },
  {
   "cell_type": "code",
   "execution_count": 18,
   "id": "smoking-magic",
   "metadata": {},
   "outputs": [
    {
     "data": {
      "text/plain": [
       "True"
      ]
     },
     "execution_count": 18,
     "metadata": {},
     "output_type": "execute_result"
    }
   ],
   "source": [
    "(merged==d).all()"
   ]
  },
  {
   "cell_type": "code",
   "execution_count": null,
   "id": "stock-bahrain",
   "metadata": {},
   "outputs": [],
   "source": []
  }
 ],
 "metadata": {
  "kernelspec": {
   "display_name": "rl",
   "language": "python",
   "name": "rl"
  },
  "language_info": {
   "codemirror_mode": {
    "name": "ipython",
    "version": 3
   },
   "file_extension": ".py",
   "mimetype": "text/x-python",
   "name": "python",
   "nbconvert_exporter": "python",
   "pygments_lexer": "ipython3",
   "version": "3.8.8"
  }
 },
 "nbformat": 4,
 "nbformat_minor": 5
}
