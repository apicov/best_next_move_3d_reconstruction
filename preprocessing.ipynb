{
 "cells": [
  {
   "cell_type": "code",
   "execution_count": 1,
   "id": "hollywood-guard",
   "metadata": {},
   "outputs": [
    {
     "name": "stdout",
     "output_type": "stream",
     "text": [
      "GPUs:  1\n"
     ]
    }
   ],
   "source": [
    "from numpy import genfromtxt\n",
    "import tensorflow as tf\n",
    "import tensorflow.keras as keras\n",
    "'''#from keras.models import Sequential\n",
    "from keras.layers import Dense, Input, Lambda, Dropout\n",
    "from keras import regularizers\n",
    "#from keras.layers import Dropout\n",
    "from keras.constraints import maxnorm\n",
    "#from keras.wrappers.scikit_learn import KerasRegressor\n",
    "from keras.models import Model\n",
    "from keras import regularizers\n",
    "#from keras.layers.normalization import BatchNormalization\n",
    "from keras import backend as K\n",
    "from keras import objectives\n",
    "from keras.models import model_from_json\n",
    "from keras.layers import Input, Dense, Convolution1D, MaxPooling1D, UpSampling1D, AveragePooling1D, Flatten ,Reshape,ZeroPadding1D,Cropping1D\n",
    "from keras.models import Model\n",
    "#from keras.callbacks import TensorBoard\n",
    "from keras.regularizers import l2, l1\n",
    "from keras import optimizers\n",
    "from keras.layers.noise import GaussianNoise\n",
    "from keras.models import Sequential\n",
    "from keras.layers import Dense, Activation\n",
    "from keras import optimizers\n",
    "from keras.layers import Dense,concatenate, Input,TimeDistributed,LSTM, Lambda, Dropout, Reshape, Conv1D, Flatten, UpSampling1D, Flatten, BatchNormalization\n",
    "from keras.models import Model\n",
    "from keras.callbacks import EarlyStopping\n",
    "from keras.callbacks import TensorBoard\n",
    "from keras import backend as K'''\n",
    "from PIL import Image\n",
    "\n",
    "import os\n",
    "import sys\n",
    "import itertools\n",
    "#import keras_internal_model\n",
    "import pandas as pd\n",
    "import numpy as np\n",
    "#import train_tools as tt\n",
    "from numpy import genfromtxt\n",
    "from time import time\n",
    "\n",
    "import csv\n",
    "\n",
    "tf.compat.v1.enable_v2_behavior()\n",
    "\n",
    "\n",
    "gpus = tf.config.experimental.list_physical_devices('GPU')\n",
    "if gpus:\n",
    "  try:\n",
    "    tf.config.experimental.set_virtual_device_configuration(gpus[0], \n",
    "    [tf.config.experimental.VirtualDeviceConfiguration(memory_limit=512)])\n",
    "  except RuntimeError as e:\n",
    "    print(e)\n",
    "    \n",
    "    \n",
    "print(\"GPUs: \", len(tf.config.experimental.list_physical_devices('GPU')))\n",
    "tf.config.experimental.list_logical_devices('GPU')\n",
    "\n",
    "import cv2\n",
    "%matplotlib inline\n",
    "import matplotlib\n",
    "import matplotlib.pyplot as plt"
   ]
  },
  {
   "cell_type": "code",
   "execution_count": 2,
   "id": "furnished-spanking",
   "metadata": {},
   "outputs": [],
   "source": [
    "def n2c(n,stride=180): #number to coordinate\n",
    "    row = n//stride\n",
    "    col = n%stride\n",
    "    return (row,col)\n",
    "\n",
    "def c2n(c,stride=180): #coordinate to number\n",
    "    return c[0]*stride + c[1]\n",
    "\n",
    "def get_deltas(c1,c2):\n",
    "    n_positions=180\n",
    "    dp = c2[0]-c1[0]\n",
    "    \n",
    "    dt = c2[1]-c1[1]\n",
    "    if dt > (n_positions/2):\n",
    "        dt -= n_positions\n",
    "    elif dt <= -(n_positions/2):\n",
    "        dt += n_positions\n",
    "    \n",
    "    return dp,dt"
   ]
  },
  {
   "cell_type": "code",
   "execution_count": 3,
   "id": "technological-frontier",
   "metadata": {},
   "outputs": [],
   "source": [
    "dataset_path = '/home/pico/uni/romi/rl_sony/arabidopsis_image_sets'\n",
    "#plants = ['000_2d', '001_2d','003_2d','006_2d','009_2d']\n",
    "plants = ['124_2d', '195_2d']\n",
    "\n",
    "dest_path = '/home/pico/uni/romi/rl_sony/best_next_move_3d_reconstruction/data/'\n",
    "#if not os.path.exists(dest_path):\n",
    "#    os.makedirs(dest_path)\n",
    "\n",
    "sample_files_path = os.path.join(dest_path,'raw_samples_2d')\n",
    "\n",
    "index_frame = {'img':[], 'dp0':[],'dt0':[], 'dp1':[],'dt1':[],'dp2':[],'dt2':[]}"
   ]
  },
  {
   "cell_type": "code",
   "execution_count": 4,
   "id": "prescription-namibia",
   "metadata": {},
   "outputs": [],
   "source": [
    "for plant in plants:\n",
    "    #ra samples file where sets of image numbers (input, outputs) are defined\n",
    "    df = pd.read_csv(os.path.join(sample_files_path, plant+'_classifier_samples.csv'),\n",
    "                    names=['i0','i1','i2','i3'],\n",
    "                    usecols=(0,1,2,3))\n",
    "    #grayscale image dataset\n",
    "    plant_img_path = os.path.join(dataset_path,plant,'gray_imgs_82')\n",
    "\n",
    "    #folder where new merged images will be stored\n",
    "    merged_dest_path = os.path.join(dest_path,'imgs',plant)\n",
    "    if not os.path.exists(merged_dest_path):\n",
    "        os.makedirs(merged_dest_path)\n",
    "\n",
    "    for index,contents in df.iterrows():\n",
    "        #convert image index to coordinates\n",
    "        c0 = n2c(contents['i0'])\n",
    "        c1 = n2c(contents['i1'])\n",
    "        c2 = n2c(contents['i2'])\n",
    "        c3 = n2c(contents['i3'])\n",
    "\n",
    "        #get position increments \n",
    "        d0 = get_deltas(c0,c1)\n",
    "        d1 = get_deltas(c1,c2)\n",
    "        d2 = get_deltas(c2,c3)\n",
    "\n",
    "        #open and merge images\n",
    "        im0 = cv2.imread(os.path.join(plant_img_path, str(c0[0]).zfill(3)+'_'+str(c0[1]).zfill(3)+'.png'),0)\n",
    "        im1 = cv2.imread(os.path.join(plant_img_path, str(c1[0]).zfill(3)+'_'+str(c1[1]).zfill(3)+'.png'),0)\n",
    "        im2 = cv2.imread(os.path.join(plant_img_path, str(c2[0]).zfill(3)+'_'+str(c2[1]).zfill(3)+'.png'),0)\n",
    "        merged = np.stack((im0,im1,im2),axis=2)\n",
    "\n",
    "        #save merged image in dest folder\n",
    "        fname = str(contents['i0']).zfill(3)+'_'+str(contents['i1']).zfill(3)+'_'+str(contents['i2']).zfill(3)+'.png'\n",
    "        #print(fname)\n",
    "        dest= os.path.join(merged_dest_path,fname)\n",
    "        cv2.imwrite(dest,merged)\n",
    "\n",
    "        #add entry to index file\n",
    "        im_path = os.path.join(plant,fname)\n",
    "        #['img','dp0', 'dt0','dp1', 'dt1','dp2','dt2']\n",
    "        index_frame['img'].append(im_path)  \n",
    "        index_frame['dp0'].append(d0[0]) \n",
    "        index_frame['dt0'].append(d0[1]) \n",
    "        index_frame['dp1'].append(d1[0]) \n",
    "        index_frame['dt1'].append(d1[1]) \n",
    "        index_frame['dp2'].append(d2[0]) \n",
    "        index_frame['dt2'].append(d2[1])\n",
    "\n",
    "index_frame = pd.DataFrame(index_frame, columns = ['img','dp0', 'dt0','dp1', 'dt1','dp2','dt2'])\n",
    "index_frame = index_frame.sample(random_state=1,frac=1) #shuffle items\n",
    "index_frame.to_csv(os.path.join(dest_path,'validation_samples_2d_idx.csv'),index=False)"
   ]
  },
  {
   "cell_type": "code",
   "execution_count": 5,
   "id": "czech-indian",
   "metadata": {},
   "outputs": [
    {
     "data": {
      "text/plain": [
       "<matplotlib.image.AxesImage at 0x7fc999fb33d0>"
      ]
     },
     "execution_count": 5,
     "metadata": {},
     "output_type": "execute_result"
    },
    {
     "data": {
      "image/png": "[encoded data removed]",
      "text/plain": [
       "<Figure size 432x288 with 1 Axes>"
      ]
     },
     "metadata": {
      "needs_background": "light"
     },
     "output_type": "display_data"
    }
   ],
   "source": [
    "plt.imshow(im2, cmap='gray', vmin=0, vmax=255)"
   ]
  },
  {
   "cell_type": "code",
   "execution_count": null,
   "id": "stock-bahrain",
   "metadata": {},
   "outputs": [],
   "source": []
  },
  {
   "cell_type": "code",
   "execution_count": null,
   "id": "sonic-machinery",
   "metadata": {},
   "outputs": [],
   "source": []
  }
 ],
 "metadata": {
  "kernelspec": {
   "display_name": "rl",
   "language": "python",
   "name": "rl"
  },
  "language_info": {
   "codemirror_mode": {
    "name": "ipython",
    "version": 3
   },
   "file_extension": ".py",
   "mimetype": "text/x-python",
   "name": "python",
   "nbconvert_exporter": "python",
   "pygments_lexer": "ipython3",
   "version": "3.8.8"
  }
 },
 "nbformat": 4,
 "nbformat_minor": 5
}
